{
 "cells": [
  {
   "cell_type": "markdown",
   "metadata": {},
   "source": [
    "## Rekognition Video Analysis\n",
    "\n",
    "In this sample, we will use rekognition CLI commands to show some rekognition capability\n",
    "+ face detection\n",
    "+ celebrity search\n",
    "+ label search\n"
   ]
  },
  {
   "cell_type": "code",
   "execution_count": null,
   "metadata": {},
   "outputs": [],
   "source": [
    "# Download video file and save to S3\n",
    "\n",
    "!wget https://s3-us-west-2.amazonaws.com/dping-public-west/bbc.mp4\n",
    "!aws s3 mb s3://rekog-video-xx --region us-west-2\n",
    "!aws s3 cp bbc.mp4 s3://rekog-video-dp"
   ]
  },
  {
   "cell_type": "markdown",
   "metadata": {},
   "source": [
    "### Step 1: Create a face collection"
   ]
  },
  {
   "cell_type": "code",
   "execution_count": null,
   "metadata": {},
   "outputs": [],
   "source": [
    "%%sh\n",
    "aws rekognition create-collection --collection-id <collection id>"
   ]
  },
  {
   "cell_type": "code",
   "execution_count": null,
   "metadata": {},
   "outputs": [],
   "source": [
    "%%sh\n",
    "my_bucket=<bucket name>\n",
    "aws rekognition index-faces --collection-id <collection id> --image \"S3Object={Bucket=$my_bucket,Name=ss.jpg}\" --external-image-id sylvester"
   ]
  },
  {
   "cell_type": "markdown",
   "metadata": {},
   "source": [
    "### Step 2: Perform a face search on the video"
   ]
  },
  {
   "cell_type": "code",
   "execution_count": null,
   "metadata": {},
   "outputs": [],
   "source": [
    "%%sh\n",
    "my_bucket=<bucket name>\n",
    "aws rekognition start-face-search --video \"S3Object={Bucket=$my_bucket,Name=bbc.mp4}\" --collection-id <collection id>"
   ]
  },
  {
   "cell_type": "code",
   "execution_count": null,
   "metadata": {},
   "outputs": [],
   "source": [
    "%%sh\n",
    "aws rekognition get-face-search --job-id <value>"
   ]
  },
  {
   "cell_type": "markdown",
   "metadata": {},
   "source": [
    "## step 3: Perform a celebrity search"
   ]
  },
  {
   "cell_type": "code",
   "execution_count": null,
   "metadata": {},
   "outputs": [],
   "source": [
    "%%sh\n",
    "my_bucket=<bucket name>\n",
    "aws rekognition start-celebrity-recognition --video \"S3Object={Bucket=$my_bucket,Name=bbc.mp4}\""
   ]
  },
  {
   "cell_type": "code",
   "execution_count": null,
   "metadata": {},
   "outputs": [],
   "source": [
    "%%sh\n",
    "aws rekognition get-celebrity-recognition --job-id <value>"
   ]
  },
  {
   "cell_type": "markdown",
   "metadata": {},
   "source": [
    "## step 4 get labels"
   ]
  },
  {
   "cell_type": "code",
   "execution_count": null,
   "metadata": {},
   "outputs": [],
   "source": [
    "%%sh\n",
    "my_bucket=<bucket name>\n",
    "aws rekognition start-label-detection --video \"S3Object={Bucket=$my_bucket,Name=bbc.mp4}\""
   ]
  },
  {
   "cell_type": "code",
   "execution_count": null,
   "metadata": {},
   "outputs": [],
   "source": [
    "%%sh\n",
    "aws rekognition get-label-detection --job-id <value>"
   ]
  },
  {
   "cell_type": "markdown",
   "metadata": {},
   "source": [
    "## step 5: Clean up resources"
   ]
  },
  {
   "cell_type": "code",
   "execution_count": null,
   "metadata": {},
   "outputs": [],
   "source": [
    "%%sh\n",
    "aws rekognition list-collections\n",
    "aws rekognition delete-collection --collection-id <value>\n",
    "aws s3 rm <s3 uri>"
   ]
  }
 ],
 "metadata": {
  "kernelspec": {
   "display_name": "conda_python3",
   "language": "python",
   "name": "conda_python3"
  },
  "language_info": {
   "codemirror_mode": {
    "name": "ipython",
    "version": 3
   },
   "file_extension": ".py",
   "mimetype": "text/x-python",
   "name": "python",
   "nbconvert_exporter": "python",
   "pygments_lexer": "ipython3",
   "version": "3.6.5"
  }
 },
 "nbformat": 4,
 "nbformat_minor": 2
}
